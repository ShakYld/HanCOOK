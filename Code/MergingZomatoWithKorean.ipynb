{
 "cells": [
  {
   "cell_type": "code",
   "execution_count": 5,
   "metadata": {},
   "outputs": [
    {
     "name": "stdout",
     "output_type": "stream",
     "text": [
      "Updated dataset with mean cost saved as 'combined_korean_restaurants_with_meancost.csv'\n"
     ]
    }
   ],
   "source": [
    "import pandas as pd\n",
    "import json\n",
    "import re\n",
    "\n",
    "# Load the combined dataset\n",
    "combined_df = pd.read_csv('combined_korean_restaurants.csv')\n",
    "\n",
    "# Function to extract prices and calculate mean cost\n",
    "def calculate_mean_cost(dishes):\n",
    "    try:\n",
    "        # Parse the dishes string as a list\n",
    "        dish_list = json.loads(dishes.replace(\"'\", \"\\\"\"))\n",
    "        \n",
    "        # Extract prices and convert to numeric values\n",
    "        prices = []\n",
    "        for dish in dish_list:\n",
    "            price_str = dish[1]\n",
    "            price_num_str = re.sub(r'[^\\d]', '', price_str)  # Remove non-numeric characters\n",
    "            if price_num_str:  # Check if the string is not empty\n",
    "                price_num = int(price_num_str)\n",
    "                prices.append(price_num)\n",
    "        \n",
    "        # Calculate mean cost\n",
    "        if prices:\n",
    "            mean_cost = sum(prices) / len(prices)\n",
    "        else:\n",
    "            mean_cost = 0\n",
    "    except (json.JSONDecodeError, TypeError, IndexError):\n",
    "        mean_cost = 0\n",
    "    \n",
    "    return mean_cost\n",
    "\n",
    "# Apply the function to the 'dishes' column\n",
    "combined_df['meancost'] = combined_df['dishes'].apply(calculate_mean_cost)\n",
    "\n",
    "# Save the updated DataFrame to a new CSV file\n",
    "combined_df.to_csv('combined_korean_restaurants.csv', index=False)\n",
    "\n",
    "print(\"Updated dataset with mean cost saved as 'combined_korean_restaurants_with_meancost.csv'\")\n"
   ]
  },
  {
   "cell_type": "code",
   "execution_count": 21,
   "metadata": {},
   "outputs": [
    {
     "name": "stderr",
     "output_type": "stream",
     "text": [
      "C:\\Users\\shakz\\AppData\\Local\\Temp\\ipykernel_17688\\3959574583.py:40: SettingWithCopyWarning: \n",
      "A value is trying to be set on a copy of a slice from a DataFrame\n",
      "\n",
      "See the caveats in the documentation: https://pandas.pydata.org/pandas-docs/stable/user_guide/indexing.html#returning-a-view-versus-a-copy\n",
      "  zomato_row['cuisines'] = korean_row['category']\n",
      "C:\\Users\\shakz\\AppData\\Local\\Temp\\ipykernel_17688\\3959574583.py:41: SettingWithCopyWarning: \n",
      "A value is trying to be set on a copy of a slice from a DataFrame\n",
      "\n",
      "See the caveats in the documentation: https://pandas.pydata.org/pandas-docs/stable/user_guide/indexing.html#returning-a-view-versus-a-copy\n",
      "  zomato_row['cost'] = korean_row['meancost']\n",
      "C:\\Users\\shakz\\AppData\\Local\\Temp\\ipykernel_17688\\3959574583.py:48: SettingWithCopyWarning: \n",
      "A value is trying to be set on a copy of a slice from a DataFrame\n",
      "\n",
      "See the caveats in the documentation: https://pandas.pydata.org/pandas-docs/stable/user_guide/indexing.html#returning-a-view-versus-a-copy\n",
      "  zomato_row['dish_liked'] = ', '.join([dish[0] for dish in selected_dishes])\n",
      "C:\\Users\\shakz\\AppData\\Local\\Temp\\ipykernel_17688\\3959574583.py:54: SettingWithCopyWarning: \n",
      "A value is trying to be set on a copy of a slice from a DataFrame\n",
      "\n",
      "See the caveats in the documentation: https://pandas.pydata.org/pandas-docs/stable/user_guide/indexing.html#returning-a-view-versus-a-copy\n",
      "  zomato_row['reviews_list'] = reviews_list\n",
      "C:\\Users\\shakz\\AppData\\Local\\Temp\\ipykernel_17688\\3959574583.py:50: SettingWithCopyWarning: \n",
      "A value is trying to be set on a copy of a slice from a DataFrame\n",
      "\n",
      "See the caveats in the documentation: https://pandas.pydata.org/pandas-docs/stable/user_guide/indexing.html#returning-a-view-versus-a-copy\n",
      "  zomato_row['dish_liked'] = None\n"
     ]
    },
    {
     "name": "stdout",
     "output_type": "stream",
     "text": [
      "                                        reviews_list\n",
      "0  음식이 맛있어요: 2044, 매장이 청결해요: 1597, 매장이 넓어요: 1596,...\n",
      "1  음식이 맛있어요: 1019, 특별한 메뉴가 있어요: 301, 양이 많아요: 237,...\n",
      "2  음식이 맛있어요: 1495, 친절해요: 1246, 매장이 넓어요: 841, 재료가 ...\n",
      "3  음식이 맛있어요: 432, 친절해요: 232, 재료가 신선해요: 126, 특별한 메...\n",
      "4  음식이 맛있어요: 272, 술이 다양해요: 207, 인테리어가 멋져요: 196, 친...\n",
      "Updated dataset saved as 'updated_zomato_with_korean.csv'\n"
     ]
    }
   ],
   "source": [
    "import pandas as pd\n",
    "import json\n",
    "import re\n",
    "import random\n",
    "\n",
    "# Load the Zomato and Korean datasets\n",
    "zomato_df = pd.read_csv('zomato.csv')\n",
    "korean_df = pd.read_csv('cleaned_korean_restaurants.csv')\n",
    "\n",
    "# Function to clean and parse the dishes string\n",
    "def parse_dishes(dishes):\n",
    "    try:\n",
    "        # Replace problematic characters and parse the JSON string\n",
    "        dishes_cleaned = re.sub(r'(?<!\\\\)\\'', '\\\"', dishes)\n",
    "        dish_list = json.loads(dishes_cleaned)\n",
    "        return dish_list\n",
    "    except json.JSONDecodeError:\n",
    "        return []\n",
    "\n",
    "# Function to parse and select the top 5 reviews with the highest count\n",
    "def parse_reviews(review_str, num_reviews=5):\n",
    "    try:\n",
    "        # Remove the 'reviewCount' part and split the rest into individual reviews\n",
    "        reviews_cleaned = re.sub(r'reviewCount: \\d+, ', '', review_str)\n",
    "        review_list = re.findall(r\"'([^']+)': (\\d+)\", reviews_cleaned)\n",
    "        # Sort the reviews by count in descending order and select the top ones\n",
    "        sorted_reviews = sorted(review_list, key=lambda x: int(x[1]), reverse=True)\n",
    "        selected_reviews = sorted_reviews[:num_reviews]\n",
    "        return ', '.join([f'{review[0]}: {review[1]}' for review in selected_reviews])\n",
    "    except Exception as e:\n",
    "        print(f\"Error parsing reviews: {e}\")\n",
    "        return \"\"\n",
    "\n",
    "# Select the same number of Korean restaurants\n",
    "korean_selected = korean_df.head(len(zomato_df))\n",
    "\n",
    "# Function to map Korean data to Zomato data\n",
    "def map_korean_to_zomato(zomato_row, korean_row):\n",
    "    # Replace cuisines, cost, and dish_liked from the same Korean row\n",
    "    zomato_row['cuisines'] = korean_row['category']\n",
    "    zomato_row['cost'] = korean_row['meancost']\n",
    "    \n",
    "    # Replace dish_liked with dishes from Korean data, matching original length\n",
    "    korean_dishes = parse_dishes(korean_row['dishes'])\n",
    "    if korean_dishes:\n",
    "        num_dishes = len(zomato_row['dish_liked'].split(', ')) if pd.notna(zomato_row['dish_liked']) else 0\n",
    "        selected_dishes = random.sample(korean_dishes, min(num_dishes, len(korean_dishes)))\n",
    "        zomato_row['dish_liked'] = ', '.join([dish[0] for dish in selected_dishes])\n",
    "    else:\n",
    "        zomato_row['dish_liked'] = None\n",
    "    \n",
    "    # Replace reviews_list with the top 5 reviews from Korean data\n",
    "    reviews_list = parse_reviews(korean_row['review'])\n",
    "    zomato_row['reviews_list'] = reviews_list\n",
    "\n",
    "    return zomato_row\n",
    "\n",
    "# Create a copy of the Zomato dataset to preserve original data\n",
    "zomato_updated_df = zomato_df.copy()\n",
    "\n",
    "# Replace the values in the Zomato dataset with the Korean dataset\n",
    "for zomato_idx, korean_row in zip(zomato_df.index, korean_selected.iterrows()):\n",
    "    zomato_updated_df.loc[zomato_idx] = map_korean_to_zomato(zomato_updated_df.loc[zomato_idx], korean_row[1])\n",
    "\n",
    "# Save the updated Zomato dataset to a new CSV file\n",
    "zomato_updated_df.to_csv('updated_zomato_with_korean.csv', index=False)\n",
    "\n",
    "# Verify if the reviews_list column is populated correctly\n",
    "print(zomato_updated_df[['reviews_list']].head())\n",
    "\n",
    "print(\"Updated dataset saved as 'updated_zomato_with_korean.csv'\")"
   ]
  },
  {
   "cell_type": "code",
   "execution_count": 19,
   "metadata": {},
   "outputs": [
    {
     "name": "stdout",
     "output_type": "stream",
     "text": [
      "Cleaned dataset saved as 'cleaned_korean_restaurants.csv'\n"
     ]
    }
   ],
   "source": [
    "import pandas as pd\n",
    "import json\n",
    "import re\n",
    "\n",
    "# Load the Korean dataset\n",
    "korean_df = pd.read_csv('combined_korean_restaurants.csv')\n",
    "\n",
    "# Function to clean and transform the reviews string\n",
    "def transform_reviews(reviews):\n",
    "    try:\n",
    "        # Replace problematic characters\n",
    "        reviews_cleaned = reviews.replace(\"'\", '\"').replace('\"\"', '\"').replace('\\\\\"', \"'\")\n",
    "        \n",
    "        # Ensure the JSON string is correctly formatted\n",
    "        if reviews_cleaned.startswith('\"'):\n",
    "            reviews_cleaned = reviews_cleaned[1:]\n",
    "        if reviews_cleaned.endswith('\"'):\n",
    "            reviews_cleaned = reviews_cleaned[:-1]\n",
    "        \n",
    "        # Parse the JSON string\n",
    "        review_dict = json.loads(reviews_cleaned)\n",
    "        \n",
    "        # Initialize the new review dictionary\n",
    "        new_review_dict = {'reviewCount': review_dict['reviewCount']}\n",
    "        \n",
    "        # Transform the reviews into the new format\n",
    "        for review in review_dict.get('reviews', []):\n",
    "            content = review['content'][0].strip('\"')\n",
    "            count = review['content'][1]\n",
    "            new_review_dict[content] = count\n",
    "        \n",
    "        # Convert the new review dictionary to a formatted string\n",
    "        formatted_reviews = f\"reviewCount: {new_review_dict['reviewCount']}, \" + \", \".join(\n",
    "            [f\"'{key}': {value}\" for key, value in new_review_dict.items() if key != 'reviewCount']\n",
    "        )\n",
    "        return formatted_reviews\n",
    "    except (json.JSONDecodeError, KeyError) as e:\n",
    "        print(f\"Error: {e} in reviews: {reviews}\")\n",
    "        return \"reviewCount: 0\"\n",
    "\n",
    "# Apply the transformation function to the 'review' column\n",
    "korean_df['review'] = korean_df['review'].apply(transform_reviews)\n",
    "\n",
    "# Save the cleaned Korean dataset to a new CSV file\n",
    "korean_df.to_csv('combined_korean_restaurants.csv', index=False)\n",
    "\n",
    "print(\"Cleaned dataset saved as 'cleaned_korean_restaurants.csv'\")"
   ]
  },
  {
   "cell_type": "code",
   "execution_count": 22,
   "metadata": {},
   "outputs": [
    {
     "data": {
      "text/plain": [
       "name              0\n",
       "rate              0\n",
       "dish_liked       83\n",
       "cuisines          0\n",
       "cost              0\n",
       "reviews_list    309\n",
       "city              0\n",
       "Mean Rating       0\n",
       "dtype: int64"
      ]
     },
     "execution_count": 22,
     "metadata": {},
     "output_type": "execute_result"
    }
   ],
   "source": [
    "df = pd.read_csv('updated_zomato_with_korean.csv')\n",
    "df.isnull().sum()"
   ]
  },
  {
   "cell_type": "code",
   "execution_count": 23,
   "metadata": {},
   "outputs": [],
   "source": [
    "df.dropna(how='any',inplace=True)"
   ]
  },
  {
   "cell_type": "code",
   "execution_count": 24,
   "metadata": {},
   "outputs": [],
   "source": [
    "df.reset_index(drop=True, inplace=True)\n",
    "df.to_csv('updated_zomato_with_korean.csv', index=False)"
   ]
  },
  {
   "cell_type": "code",
   "execution_count": null,
   "metadata": {},
   "outputs": [],
   "source": []
  }
 ],
 "metadata": {
  "kernelspec": {
   "display_name": "base",
   "language": "python",
   "name": "python3"
  },
  "language_info": {
   "codemirror_mode": {
    "name": "ipython",
    "version": 3
   },
   "file_extension": ".py",
   "mimetype": "text/x-python",
   "name": "python",
   "nbconvert_exporter": "python",
   "pygments_lexer": "ipython3",
   "version": "3.11.7"
  }
 },
 "nbformat": 4,
 "nbformat_minor": 2
}
